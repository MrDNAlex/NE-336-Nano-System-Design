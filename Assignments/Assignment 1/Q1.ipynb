{
 "cells": [
  {
   "cell_type": "code",
   "execution_count": 1,
   "metadata": {},
   "outputs": [
    {
     "name": "stdout",
     "output_type": "stream",
     "text": [
      "0.09999990463256836\n",
      "Missile Error (s/tick) : 9.536743164617612e-08\n"
     ]
    }
   ],
   "source": [
    "# Q1 (a)\n",
    "# Converting the Binary string to it's bit approximation\n",
    "error = \"000011001100110011001100\"\n",
    "bitApprox = 0\n",
    "for i in range(0, 24):\n",
    "    bit = int(error[i])\n",
    "    if (bit == 1):\n",
    "        bitApprox += 2**(-i)\n",
    "    \n",
    "print(bitApprox)\n",
    "\n",
    "# Missiles Error (0.1 - 24 bit approximation)\n",
    "missileError = 0.1 - bitApprox\n",
    "\n",
    "# Print the Error\n",
    "print(f\"Missile Error (s/tick) : {missileError}\")"
   ]
  },
  {
   "cell_type": "code",
   "execution_count": 2,
   "metadata": {},
   "outputs": [
    {
     "name": "stdout",
     "output_type": "stream",
     "text": [
      "Time in Seconds 360000\n",
      "Ticks : 3600000.0\n",
      "Cummulative Error of the Missile over 100 hours : 0.343322753926234\n",
      "Mach 2 in m/s : 686.0\n",
      "The Difference in Position (meters) within the Cummulative Errors timeframe : 235.51940919339654\n"
     ]
    }
   ],
   "source": [
    "# Q1 (b)\n",
    "# 100 Hours of Time Elapsed\n",
    "timeHours = 100\n",
    "timeSeconds = 100 * 3600\n",
    "print(f\"Time in Seconds {timeSeconds}\")\n",
    "\n",
    "# 1/10 of a Second\n",
    "tenthSecond = 1/10\n",
    "ticks = timeSeconds/tenthSecond\n",
    "print(f\"Ticks : {ticks}\")\n",
    "\n",
    "cummulativeError = missileError * ticks\n",
    "print(f\"Cummulative Error of the Missile over 100 hours : {cummulativeError}\")\n",
    "\n",
    "mach1kmh = 1234.8\n",
    "mach2ms = 2 * mach1kmh * 1000/3600\n",
    "print(f\"Mach 2 in m/s : {mach2ms}\")\n",
    "\n",
    "distance = mach2ms * cummulativeError\n",
    "print(f\"The Difference in Position (meters) within the Cummulative Errors timeframe : {distance}\")"
   ]
  }
 ],
 "metadata": {
  "kernelspec": {
   "display_name": "Python 3",
   "language": "python",
   "name": "python3"
  },
  "language_info": {
   "codemirror_mode": {
    "name": "ipython",
    "version": 3
   },
   "file_extension": ".py",
   "mimetype": "text/x-python",
   "name": "python",
   "nbconvert_exporter": "python",
   "pygments_lexer": "ipython3",
   "version": "3.12.3"
  }
 },
 "nbformat": 4,
 "nbformat_minor": 2
}
