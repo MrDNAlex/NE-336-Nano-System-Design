{
 "cells": [
  {
   "cell_type": "code",
   "execution_count": 1,
   "metadata": {},
   "outputs": [],
   "source": [
    "# Imports\n",
    "from summation import *"
   ]
  },
  {
   "cell_type": "code",
   "execution_count": 2,
   "metadata": {},
   "outputs": [
    {
     "name": "stdout",
     "output_type": "stream",
     "text": [
      "Version 1\n",
      "\n",
      "X is not a Number (x = Hello)\n",
      "Test 1 (Invalid Type) : None\n",
      "X's Value is larger than or equal to 1. X must be smaller than 1 (x = 2)\n",
      "Test 2 (Value out of Range) : None\n",
      "Test 3 : 0.666656494140625 (Comparison : 0.6666666666666666)\n",
      "Test 4 : 1.3725338607966278 (Comparison : 1.372549019607843)\n",
      "Test 5 : 4.736798235534642 (Comparison : 4.736842105263159)\n",
      "Test 6 : 49.748248593283286 (Comparison : 49.74874371859289)\n",
      "Test 7 : 4999.699992509565 (Comparison : 4999.749987501182)\n"
     ]
    }
   ],
   "source": [
    "print(\"Version 1\\n\")\n",
    "\n",
    "print(f\"Test 1 (Invalid Type) : {summationV1(\"Hello\")}\")\n",
    "print(f\"Test 2 (Value out of Range) : {summationV1(2)}\")\n",
    "print(f\"Test 3 : {summationV1(0.5)} (Comparison : {trueEquation(0.5)})\")\n",
    "print(f\"Test 4 : {summationV1(0.7)} (Comparison : {trueEquation(0.7)})\")\n",
    "print(f\"Test 5 : {summationV1(0.9)} (Comparison : {trueEquation(0.9)})\")\n",
    "print(f\"Test 6 : {summationV1(0.99)} (Comparison : {trueEquation(0.99)})\")\n",
    "print(f\"Test 7 : {summationV1(0.9999)} (Comparison : {trueEquation(0.9999)})\")"
   ]
  },
  {
   "cell_type": "code",
   "execution_count": 3,
   "metadata": {},
   "outputs": [
    {
     "name": "stdout",
     "output_type": "stream",
     "text": [
      "\n",
      "Version 2\n",
      "\n",
      "X is not a Number (x = Hello)\n",
      "Test 1 (Invalid Type) : None\n",
      "Tolerance is not a Number (tolerance = Hello)\n",
      "Test 1.1 (Invalid Type) : None\n",
      "X's Value is larger than or equal to 1. X must be smaller than 1 (x = 2)\n",
      "Test 2 (Value out of Range) : None\n",
      "Test 3 : 0.6666666567325592 (Comparison : 0.6666666666666666)\n",
      "Test 3 : -0.6666666567325592 (Comparison : -0.6666666666666666)\n",
      "Test 4 : 1.372549007512284 (Comparison : 1.372549019607843)\n",
      "Test 5 : 4.736842053539936 (Comparison : 4.736842105263159)\n",
      "Test 6 : 49.748743216876136 (Comparison : 49.74874371859289)\n",
      "Test 7 : 4999.749937504452 (Comparison : 4999.749987501182)\n",
      "Test 8 : 4999.749982499996 (Comparison : 4999.749987501182)\n",
      "Test 9 : 4999.749986999869 (Comparison : 4999.749987501182)\n",
      "Test 10 : 4999.7499874498835 (Comparison : 4999.749987501182)\n"
     ]
    }
   ],
   "source": [
    "print(\"\\nVersion 2\\n\")\n",
    "\n",
    "print(f\"Test 1 (Invalid Type) : {summationV2(\"Hello\", 10**-8)}\")\n",
    "print(f\"Test 1.1 (Invalid Type) : {summationV2(0.99, \"Hello\")}\")\n",
    "print(f\"Test 2 (Value out of Range) : {summationV2(2, 10**-8)}\")\n",
    "print(f\"Test 3 : {summationV2(0.5, 10**-8)} (Comparison : {trueEquation(0.5)})\")\n",
    "print(f\"Test 3 : {summationV2(-0.5, 10**-8)} (Comparison : {trueEquation(-0.5)})\")\n",
    "print(f\"Test 4 : {summationV2(0.7, 10**-8)} (Comparison : {trueEquation(0.7)})\")\n",
    "print(f\"Test 5 : {summationV2(0.9, 10**-8)} (Comparison : {trueEquation(0.9)})\")\n",
    "print(f\"Test 6 : {summationV2(0.99, 10**-8)} (Comparison : {trueEquation(0.99)})\")\n",
    "print(f\"Test 7 : {summationV2(0.9999, 10**-8)} (Comparison : {trueEquation(0.9999)})\")\n",
    "print(f\"Test 8 : {summationV2(0.9999, 10**-9)} (Comparison : {trueEquation(0.9999)})\")\n",
    "print(f\"Test 9 : {summationV2(0.9999, 10**-10)} (Comparison : {trueEquation(0.9999)})\")\n",
    "print(f\"Test 10 : {summationV2(0.9999, 10**-11)} (Comparison : {trueEquation(0.9999)})\")"
   ]
  }
 ],
 "metadata": {
  "kernelspec": {
   "display_name": "Python 3",
   "language": "python",
   "name": "python3"
  },
  "language_info": {
   "codemirror_mode": {
    "name": "ipython",
    "version": 3
   },
   "file_extension": ".py",
   "mimetype": "text/x-python",
   "name": "python",
   "nbconvert_exporter": "python",
   "pygments_lexer": "ipython3",
   "version": "3.12.3"
  }
 },
 "nbformat": 4,
 "nbformat_minor": 2
}
