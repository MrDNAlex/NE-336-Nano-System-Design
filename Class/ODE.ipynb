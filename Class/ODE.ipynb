{
 "cells": [
  {
   "cell_type": "code",
   "execution_count": 17,
   "metadata": {},
   "outputs": [
    {
     "name": "stdout",
     "output_type": "stream",
     "text": [
      "9\n",
      "[0.  0.5 1.  1.5 2.  2.5 3.  3.5 4. ]\n",
      "8.5\n",
      "5.25\n",
      "3.21875\n",
      "0.6310679611650486\n",
      "5.875\n",
      "3.0\n",
      "0.9583333333333334\n",
      "[1.    5.25  5.875 5.125 4.5   4.75  5.875 7.125 7.   ]\n",
      "[1.    5.25  5.875 5.125 4.5   4.75  5.875 7.125 7.   ]\n"
     ]
    }
   ],
   "source": [
    "import numpy as np\n",
    "\n",
    "\n",
    "dxdt = lambda t: -2*t**3+12*t**2-20*t+8.5\n",
    "xreal = lambda t : -0.5*t**4+4*t**3-10*t**2+8.5*t+1\n",
    "\n",
    "# Euler\n",
    "# xi +1 = xi + f(ti, xi)*dt\n",
    "\n",
    "x0 = 1\n",
    "(t0, tend)=(0, 4)\n",
    "dt = 0.5\n",
    "\n",
    "n = int((tend - t0)/dt+1)\n",
    "t = np.linspace(t0, tend, n)\n",
    "\n",
    "# True solution\n",
    "x = np.zeros(n)\n",
    "x[0] = x0\n",
    "\n",
    "for i in range(1, n):\n",
    "    x[i] = x[i-1] + dxdt(t[i-1])*dt\n",
    "\n",
    "print(x)\n",
    "\n",
    "i=1\n",
    "while (i < n):\n",
    "    x[i] = x[i-1] + dxdt(t[i-1])*dt\n",
    "    i+=1\n",
    "\n",
    "print(x)"
   ]
  }
 ],
 "metadata": {
  "kernelspec": {
   "display_name": "Python 3",
   "language": "python",
   "name": "python3"
  },
  "language_info": {
   "codemirror_mode": {
    "name": "ipython",
    "version": 3
   },
   "file_extension": ".py",
   "mimetype": "text/x-python",
   "name": "python",
   "nbconvert_exporter": "python",
   "pygments_lexer": "ipython3",
   "version": "3.12.3"
  }
 },
 "nbformat": 4,
 "nbformat_minor": 2
}
