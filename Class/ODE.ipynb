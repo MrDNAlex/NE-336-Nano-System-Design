{
 "cells": [
  {
   "cell_type": "code",
   "execution_count": 17,
   "metadata": {},
   "outputs": [
    {
     "name": "stdout",
     "output_type": "stream",
     "text": [
      "9\n",
      "[0.  0.5 1.  1.5 2.  2.5 3.  3.5 4. ]\n",
      "8.5\n",
      "5.25\n",
      "3.21875\n",
      "0.6310679611650486\n",
      "5.875\n",
      "3.0\n",
      "0.9583333333333334\n",
      "[1.    5.25  5.875 5.125 4.5   4.75  5.875 7.125 7.   ]\n",
      "[1.    5.25  5.875 5.125 4.5   4.75  5.875 7.125 7.   ]\n"
     ]
    }
   ],
   "source": [
    "import numpy as np\n",
    "\n",
    "\n",
    "dxdt = lambda t: -2*t**3+12*t**2-20*t+8.5\n",
    "xreal = lambda t : -0.5*t**4+4*t**3-10*t**2+8.5*t+1\n",
    "\n",
    "# Euler\n",
    "# xi +1 = xi + f(ti, xi)*dt\n",
    "\n",
    "x0 = 1\n",
    "(t0, tend)=(0, 4)\n",
    "dt = 0.5\n",
    "\n",
    "n = int((tend - t0)/dt+1)\n",
    "t = np.linspace(t0, tend, n)\n",
    "\n",
    "# True solution\n",
    "x = np.zeros(n)\n",
    "x[0] = x0\n",
    "\n",
    "for i in range(1, n):\n",
    "    x[i] = x[i-1] + dxdt(t[i-1])*dt\n",
    "\n",
    "print(x)\n",
    "\n",
    "i=1\n",
    "while (i < n):\n",
    "    x[i] = x[i-1] + dxdt(t[i-1])*dt\n",
    "    i+=1\n",
    "\n",
    "print(x)"
   ]
  },
  {
   "cell_type": "code",
   "execution_count": 21,
   "metadata": {},
   "outputs": [
    {
     "name": "stdout",
     "output_type": "stream",
     "text": [
      "[ 2.          6.20103707 14.86248359 33.72134801 75.43917199]\n"
     ]
    }
   ],
   "source": [
    "#RK4 Method\n",
    "\n",
    "\n",
    "dxdt = lambda t,x: 4*np.exp(0.8*t) - 0.5*x\n",
    "\n",
    "(t0, tend)=(0, 4)\n",
    "x0 = 2\n",
    "dt = 1\n",
    "\n",
    "n =  int((tend - t0)/dt+1)\n",
    "\n",
    "t = np.linspace(t0, tend, n)\n",
    "x = np.zeros(n)\n",
    "x[0] = x0\n",
    "\n",
    "for i in range(1, n):\n",
    "    k1 = dxdt(t[i-1], x[i-1])\n",
    "    k2 = dxdt(t[i-1]+0.5*dt, x[i-1]+0.5*k1*dt)\n",
    "    k3 = dxdt(t[i-1]+0.5*dt, x[i-1]+0.5*k2*dt)\n",
    "    k4 = dxdt(t[i-1]+dt, x[i-1]+k3*dt)\n",
    "    \n",
    "    phi = (1/6)*(k1 + 2*k2 + 2*k3 + k4)\n",
    "    \n",
    "    x[i] = x[i - 1] + phi\n",
    "    \n",
    "    \n",
    "print(x)\n",
    "\n",
    "\n",
    "\n",
    "\n",
    "\n",
    "\n",
    "\n",
    "\n",
    "\n"
   ]
  },
  {
   "cell_type": "code",
   "execution_count": null,
   "metadata": {},
   "outputs": [],
   "source": [
    "\n",
    "for i in range(1, 10):\n",
    "    print(i)\n",
    "\n",
    "\n",
    "\n"
   ]
  }
 ],
 "metadata": {
  "kernelspec": {
   "display_name": "Python 3",
   "language": "python",
   "name": "python3"
  },
  "language_info": {
   "codemirror_mode": {
    "name": "ipython",
    "version": 3
   },
   "file_extension": ".py",
   "mimetype": "text/x-python",
   "name": "python",
   "nbconvert_exporter": "python",
   "pygments_lexer": "ipython3",
   "version": "3.12.3"
  }
 },
 "nbformat": 4,
 "nbformat_minor": 2
}
