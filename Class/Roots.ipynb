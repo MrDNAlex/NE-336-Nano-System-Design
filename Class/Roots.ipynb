{
 "cells": [
  {
   "cell_type": "code",
   "execution_count": 1,
   "metadata": {},
   "outputs": [],
   "source": [
    "import numpy as np\n",
    "import matplotlib.pyplot as plt"
   ]
  },
  {
   "cell_type": "code",
   "execution_count": 2,
   "metadata": {},
   "outputs": [
    {
     "name": "stdout",
     "output_type": "stream",
     "text": [
      "Range is : (2.7134268537074147, 2.723446893787575)\n"
     ]
    }
   ],
   "source": [
    "f = lambda x:x*np.log(x) - x\n",
    "\n",
    "x = np.linspace(1, 6)\n",
    "\n",
    "xu = 6\n",
    "xl = 1\n",
    "\n",
    "fxu = f(xu)\n",
    "fxl = f(xl)\n",
    "\n",
    "x = np.linspace(xl, xu, 500)\n",
    "\n",
    "maxIter = 500-1\n",
    "count = 0\n",
    "while (count < maxIter):\n",
    "    xold = x[count]\n",
    "    xnew = x[count + 1]\n",
    "    \n",
    "    if f(xold)*f(xnew)< 0:\n",
    "        print(\"Range is : \" + str((xold, xnew)))\n",
    "        break\n",
    "    \n",
    "    count+= 1"
   ]
  }
 ],
 "metadata": {
  "kernelspec": {
   "display_name": "Python 3",
   "language": "python",
   "name": "python3"
  },
  "language_info": {
   "codemirror_mode": {
    "name": "ipython",
    "version": 3
   },
   "file_extension": ".py",
   "mimetype": "text/x-python",
   "name": "python",
   "nbconvert_exporter": "python",
   "pygments_lexer": "ipython3",
   "version": "3.12.3"
  }
 },
 "nbformat": 4,
 "nbformat_minor": 2
}
