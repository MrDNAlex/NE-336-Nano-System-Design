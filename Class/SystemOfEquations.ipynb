{
 "cells": [
  {
   "cell_type": "code",
   "execution_count": 1,
   "metadata": {},
   "outputs": [
    {
     "name": "stdout",
     "output_type": "stream",
     "text": [
      "[[ 3.  -0.1 -0.2]\n",
      " [ 0.1  7.  -0.3]\n",
      " [ 0.3 -0.2 10. ]]\n",
      "[[  7.85]\n",
      " [-19.3 ]\n",
      " [ 71.4 ]]\n",
      "[[  3.    -0.1   -0.2    7.85]\n",
      " [  0.1    7.    -0.3  -19.3 ]\n",
      " [  0.3   -0.2   10.    71.4 ]]\n",
      "[[ 3. ]\n",
      " [-2.5]\n",
      " [ 7. ]]\n"
     ]
    }
   ],
   "source": [
    "import numpy as np\n",
    "import scipy\n",
    "\n",
    "AVals = [[3 , -0.1, -0.2], [0.1, 7, -0.3], [0.3, -0.2, 10]]\n",
    "bVals = [[7.85], [-19.3], [71.4]]\n",
    "bVals2 = [[7.85, -19.3, 71.4]]\n",
    "\n",
    "A = np.array(AVals)\n",
    "b = np.array(bVals2).T\n",
    "\n",
    "print(A)\n",
    "print(b)\n",
    "\n",
    "AugmentMatrix = np.concatenate((A,b), axis = 1)\n",
    "#AugmentMatrix2 = np.hstack((A, b))\n",
    "\n",
    "print(AugmentMatrix)\n",
    "#print(AugmentMatrix2)\n",
    "\n",
    "solve = np.linalg.solve(A, b)\n",
    "\n",
    "print(solve)\n"
   ]
  },
  {
   "cell_type": "code",
   "execution_count": 15,
   "metadata": {},
   "outputs": [
    {
     "name": "stdout",
     "output_type": "stream",
     "text": [
      "P= [[1. 0. 0.]\n",
      " [0. 1. 0.]\n",
      " [0. 0. 1.]]\n",
      "L= [[ 1.          0.          0.        ]\n",
      " [ 0.03333333  1.          0.        ]\n",
      " [ 0.1        -0.02712994  1.        ]]\n",
      "U= [[ 3.         -0.1        -0.2       ]\n",
      " [ 0.          7.00333333 -0.29333333]\n",
      " [ 0.          0.         10.01204188]]\n",
      "[[ 3. ]\n",
      " [-2.5]\n",
      " [ 7. ]]\n",
      "[[ 3. ]\n",
      " [-2.5]\n",
      " [ 7. ]]\n"
     ]
    }
   ],
   "source": [
    "# LU Decomposition\n",
    "from scipy.linalg import lu_factor, lu_solve, lu\n",
    "\n",
    "P, L, U = lu(A)\n",
    "\n",
    "print(\"P=\", P)\n",
    "print( \"L=\", L)\n",
    "print( \"U=\", U)\n",
    "\n",
    "d = np.linalg.solve(L, b)\n",
    "\n",
    "x_lu = np.linalg.solve(U, d) # this is solution\n",
    "\n",
    "print(x_lu)\n",
    "\n",
    "# builtin \n",
    "x_lu_builtin = lu_solve(lu_factor(A), b)\n",
    "\n",
    "print(x_lu_builtin)\n",
    "\n",
    "\n",
    "\n",
    "\n"
   ]
  },
  {
   "cell_type": "code",
   "execution_count": 13,
   "metadata": {},
   "outputs": [
    {
     "name": "stdout",
     "output_type": "stream",
     "text": [
      "[[ 6.5   1.5 ]\n",
      " [36.75 32.5 ]]\n",
      "[[ 2.5  ]\n",
      " [-1.625]]\n",
      "[[ 0.53602882]\n",
      " [-0.6561249 ]]\n",
      "[[2.03602882]\n",
      " [2.8438751 ]]\n",
      "[2. 3.]\n"
     ]
    }
   ],
   "source": [
    "# Non linear Equations (Jacobian)\n",
    "\n",
    "\n",
    "import scipy.optimize\n",
    "\n",
    "\n",
    "A = np.array([[6.5, 1.5], [36.75, 32.5]]) # Jacobian\n",
    "\n",
    "b = np.array([[2.5], [-1.625]])\n",
    "\n",
    "xo = np.array([[1.5], [3.5]])\n",
    "\n",
    "print(A)\n",
    "print(b)\n",
    "\n",
    "solve = np.linalg.solve(A, b) # Delta X and Delta Y\n",
    "\n",
    "print(solve)\n",
    "\n",
    "newB = solve + xo\n",
    "\n",
    "print(newB)\n",
    "\n",
    "\n",
    "\n",
    "# Correct way to input functions \n",
    "\n",
    "def func_try (z):\n",
    "    \n",
    "    #Split if you want, or we can directly index\n",
    "    [x,y] = z\n",
    "    \n",
    "    f = [x**2 + x*y - 10, y + 3*x*y**2 -57]\n",
    "    \n",
    "    return f\n",
    "\n",
    "\n",
    "print(scipy.optimize.fsolve(func_try, [1.5, 3.5]))\n",
    "\n"
   ]
  }
 ],
 "metadata": {
  "kernelspec": {
   "display_name": "Python 3",
   "language": "python",
   "name": "python3"
  },
  "language_info": {
   "codemirror_mode": {
    "name": "ipython",
    "version": 3
   },
   "file_extension": ".py",
   "mimetype": "text/x-python",
   "name": "python",
   "nbconvert_exporter": "python",
   "pygments_lexer": "ipython3",
   "version": "3.12.3"
  }
 },
 "nbformat": 4,
 "nbformat_minor": 2
}
