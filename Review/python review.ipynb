{
 "cells": [
  {
   "cell_type": "markdown",
   "metadata": {},
   "source": [
    "# A brief review of Python commands\n",
    "\n",
    "\n",
    "The objective of this file is to overview the basics of Python that you had learned in NE111. These topics are noted at a basic level and you will need to go back to the lecture notes for a more comprehensive review. \n",
    "\n",
    "# Preliminaries \n",
    "\n",
    "This lecture relies on a prior installation of the [Anaconda distribution](https://www.anaconda.com/products/individual) which will install Python as well as the [Jupyter Notebook](https://jupyter-notebook.readthedocs.io/en/stable/). Jupyter notebook allows us to have cells containing text,"
   ]
  },
  {
   "cell_type": "code",
   "execution_count": null,
   "metadata": {},
   "outputs": [],
   "source": [
    "#as well as cells containing code\n",
    "#in this case, python code\n",
    "\n",
    "print(\"Did you miss Python?\")"
   ]
  },
  {
   "cell_type": "markdown",
   "metadata": {},
   "source": [
    "\n",
    "# How to run python code\n",
    "\n",
    "There are three methods for you to run python code:\n",
    "\n",
    "- Running code cells from jupyter notebook. \n",
    "\n",
    "- Executing commands directly in a python/ipython shell.\n",
    "\n",
    "- Creating a py file and running it from the terminal using the command:\n",
    "\n",
    "    - `run file.py` from ipython.\n",
    "\n",
    "    - `python file.py` from anaconda prompt.\n",
    "\n",
    "Try running the following piece of code using all three methods. "
   ]
  },
  {
   "cell_type": "code",
   "execution_count": null,
   "metadata": {},
   "outputs": [],
   "source": [
    "for i in range(1,10):\n",
    "    print('*'*(i))"
   ]
  },
  {
   "cell_type": "markdown",
   "metadata": {},
   "source": [
    "# Basics of Python Programming Language\n",
    "\n",
    "As an object-oriented programming language, everything in python is an **object** and has a **type**. Let's start by reviewing some data types. \n",
    "\n",
    "## Python Data Types \n",
    "\n",
    "There are many fundamental data types in python. Values are **dynamically typed**. Here is an incomprehensive list of variable types in python. \n",
    "\n",
    "|**Data Type**|**Type in Python**|**Example**|\n",
    "|------------|--------------|-------------|\n",
    "|integer     |`int`         |2            |\n",
    "|float       |`float`       |3.0          |\n",
    "|string      |`str`         |'hello world'|\n",
    "|list        |`list`        |['1','2','3']    |\n",
    "|tuple       |`tuple`       |(1,2,3)      |\n",
    "\n",
    "The last three types are sequences with list being the only mutable one.\n",
    "\n",
    "**Note**: An immutable object cannot be changed once defined. \n"
   ]
  },
  {
   "cell_type": "code",
   "execution_count": null,
   "metadata": {},
   "outputs": [],
   "source": [
    "# the type of an object can be returned with the type() built-in function\n",
    "\n",
    "type([2])"
   ]
  },
  {
   "cell_type": "markdown",
   "metadata": {},
   "source": [
    "## Statements and variables \n",
    "\n",
    "Let's review the basic syntax for arithmetic operations. \n",
    "\n",
    "|**Symbol**  |**Operator**  |**Example Expression**|**Resulting Value**|\n",
    "|------------|--------------|----------------------|-------------------|\n",
    "|-           |negation      |-4                   |-4                |\n",
    "|+           |addition      |11 + 3.1              |14.1               |\n",
    "|-           |subtraction   |5 - 19                |-14                |\n",
    "|*           |multiplication|8.0 * 4               | 32.0              |\n",
    "|/           |division      |11 / 2                |5.5                |\n",
    "|//          |integer division: returns the _floor_ of the result of a division |11 // 2|5|\n",
    "|%           |remainder: returns the remainder from a division|8.5 % 3.5|1.5|\n",
    "|**           |exponentiation|2 ** 5|32|\n"
   ]
  },
  {
   "cell_type": "code",
   "execution_count": null,
   "metadata": {},
   "outputs": [],
   "source": [
    "4/3 #the result of this is a float, even when the operands are int"
   ]
  },
  {
   "cell_type": "code",
   "execution_count": null,
   "metadata": {},
   "outputs": [],
   "source": [
    "4//3 #this is an integer division which returns an int by default"
   ]
  },
  {
   "cell_type": "code",
   "execution_count": null,
   "metadata": {},
   "outputs": [],
   "source": [
    "#we can use expressions in the place of operands \n",
    "(5-1)//(6/2) #what is the type of the result?"
   ]
  },
  {
   "cell_type": "markdown",
   "metadata": {},
   "source": [
    "### Variable Names in Python\n",
    "\n",
    "If we would like to have access to results from certain expressions to be able to utilize them again, we will assign them to a variable. Variable names may not *start with a digit* and **cannot** be a reserved keyword. Using built-in types or functions as variable names will not give an error but should be avoided. "
   ]
  },
  {
   "cell_type": "code",
   "execution_count": null,
   "metadata": {},
   "outputs": [],
   "source": [
    "#here are a few key words that cannot be used as var names \n",
    "#if,and,is,not,while,else,elif\n"
   ]
  },
  {
   "cell_type": "code",
   "execution_count": null,
   "metadata": {},
   "outputs": [],
   "source": [
    "#let's use appropriate var names for finding the area of a circle\n",
    "\n",
    "radius_of_circle = 5 #radius of circle (cm)\n",
    "pi = 3.14\n",
    "area =  pi * radius_of_circle**2 #area of circle (cm**2)\n",
    "\n",
    "#what is the var type for the radius?\n",
    "type(radius_of_circle)"
   ]
  },
  {
   "cell_type": "code",
   "execution_count": null,
   "metadata": {},
   "outputs": [],
   "source": [
    "#How do we see the value for the area\n",
    "\n",
    "#area #take out the comment here to see this\n",
    "\n",
    "#we can also use print\n",
    "print('The area of a circle with a radius of',radius_of_circle,'cms is',area,\"cm^2\")"
   ]
  },
  {
   "cell_type": "markdown",
   "metadata": {},
   "source": [
    "## Functions\n",
    "\n",
    "### Built-in Functions\n",
    "\n",
    "Python provides many [built-in functions](https://docs.python.org/3/library/functions.html) (in addition to built-in [types](https://docs.python.org/3/library/stdtypes.html) and [constants](https://docs.python.org/3/library/constants.html)). We have already seen one built-in function `print`. Here are some additional built-in functions that will help with converting two of data types we have previously seen. \n",
    "\n",
    "|**Function Name**  |**Description**  |\n",
    "|------------|--------------|\n",
    "|print()     |Used for printing values.|\n",
    "|int()       |Convert a number or string to an integer, or return 0 if no arguments are given.  For floating point numbers, this truncates towards zero.      |\n",
    "|float()     |Convert a string or number to a floating point number, if possible.     |\n",
    "|str()       |Creates a new string object from the given object.|"
   ]
  },
  {
   "cell_type": "code",
   "execution_count": null,
   "metadata": {},
   "outputs": [],
   "source": [
    "#typing help(name) will bring up any documentation associated with name\n",
    "\n",
    "#what do you think the type of print is?\n",
    "#type(print)\n",
    "#help(print)\n",
    "\n",
    "print('The area of a circle with radius',float(radius_of_circle),'is',int(area), 'cm^2', sep='\\t',end='')\n"
   ]
  },
  {
   "cell_type": "markdown",
   "metadata": {},
   "source": [
    "Lets look at some builtin functions that work on collections. \n",
    "\n",
    "|**Function Name**  |**Description**  |\n",
    "|------------|--------------|\n",
    "|len()       | Return the number of items in a container.|\n",
    "|max()       | With a single iterable argument, return its biggest item. With two or more arguments, return the largest argument.  |\n",
    "|min()       |   With a single iterable argument, return its smallest item. With two or more arguments, return the smallest argument. |\n"
   ]
  },
  {
   "cell_type": "code",
   "execution_count": null,
   "metadata": {},
   "outputs": [],
   "source": [
    "#try finding the number of items in a list\n",
    "list1=[1,2,3]\n",
    "\n",
    "\n",
    "#how about the max value?\n",
    "max_of_list1 = max(list1)\n",
    "print(max_of_list1)"
   ]
  },
  {
   "cell_type": "code",
   "execution_count": null,
   "metadata": {},
   "outputs": [],
   "source": [
    "#lets try the same task with a tuple \n",
    "tuple1=(3,-1,4)\n",
    "\n",
    "max(tuple1)"
   ]
  },
  {
   "cell_type": "code",
   "execution_count": null,
   "metadata": {},
   "outputs": [],
   "source": [
    "#what about strings? These are collections too!\n",
    "\n",
    "a_string='Separation of Variables is so much fun!'\n",
    "\n",
    "print('The length of the string is',len(a_string))\n"
   ]
  },
  {
   "cell_type": "markdown",
   "metadata": {},
   "source": [
    "### What are implicit methods in python?\n",
    "\n",
    "Since everything is an object in python and has a type, there are many builtin methods for each data type that can be used implicitly (as well as explicitly). To see these method use datatype.method . "
   ]
  },
  {
   "cell_type": "code",
   "execution_count": null,
   "metadata": {},
   "outputs": [],
   "source": [
    "#lets see the available methods for the list type \n",
    "\n",
    "list.#press tab to see all the available methods"
   ]
  },
  {
   "cell_type": "code",
   "execution_count": null,
   "metadata": {},
   "outputs": [],
   "source": [
    "#lets try the count method \n",
    "#list.count([1,2,3,3,3,4,4,5],4)\n",
    "[1,2,3,3,3,4,4,5].count(4)\n",
    "\n",
    "#also index \n",
    "#[1,2,3,3,3,4,5].index(3)"
   ]
  },
  {
   "cell_type": "code",
   "execution_count": null,
   "metadata": {},
   "outputs": [],
   "source": [
    "#does it work for strings?\n",
    "'3B is indeed the height of Engineering at UW'.count('i')\n",
    "\n",
    "a_string.index('V')"
   ]
  },
  {
   "cell_type": "code",
   "execution_count": null,
   "metadata": {},
   "outputs": [],
   "source": [
    "#what about other methods on strings?\n",
    "str.split?\n",
    "\n",
    "a_string.split()"
   ]
  },
  {
   "cell_type": "markdown",
   "metadata": {},
   "source": [
    "## Practice Exercises\n",
    "\n",
    "### Exercise 1\n",
    "\n",
    "Make a list of values. Return the average of the items in the list using the builtin functions `sum` and `len`. Use ? or help(name of function) to get help on each of these methods. \n",
    "\n",
    "\n",
    "### Exercise 2\n",
    "\n",
    "Now using the implicit `insert` method, add the average values to the end of the list. "
   ]
  },
  {
   "cell_type": "code",
   "execution_count": null,
   "metadata": {},
   "outputs": [],
   "source": []
  },
  {
   "cell_type": "markdown",
   "metadata": {},
   "source": [
    "## Creating our own Functions\n",
    "\n",
    "The most general form of the function definition in python is as follows. \n",
    "\n",
    "```python\n",
    "    def myfunction(input_variable1, input_variable2, ...):\n",
    "        'Documentation string'\n",
    "\n",
    "        statement1\n",
    "        statement2\n",
    "    \n",
    "        return(output)\n",
    "```\n",
    "**Note** that the function header is followed by a colon (:). The body of the function is indented with four spaces. Let us write a function for our circle."
   ]
  },
  {
   "cell_type": "code",
   "execution_count": null,
   "metadata": {},
   "outputs": [],
   "source": [
    "def area_of_circles(radius):  \n",
    "    '''\n",
    "    (float)-> float \n",
    "    \n",
    "    This function returns the area of a circle. \n",
    "    \n",
    "    >>>area_of_circle(2)\n",
    "    12.56\n",
    "    >>>area_of_circle(0)\n",
    "    0.0\n",
    "    '''\n",
    "    area_of_circle = 3.14*radius**2\n",
    "    \n",
    "    return (radius,area_of_circle)\n",
    "\n",
    "#using help(my_function) will print any documentation \n",
    "#written for user defined functions\n",
    "#help(area_of_circles)\n",
    "radius_1=10\n",
    "(r,area_r)=area_of_circles(radius_1)\n",
    "#we can use a print statement to show the result\n",
    "print('The area of a circle with radius',r,'is', area_r)"
   ]
  },
  {
   "cell_type": "code",
   "execution_count": null,
   "metadata": {},
   "outputs": [],
   "source": [
    "#now that we have a function, we can compute the area for many circles easily\n",
    "\n",
    "#here is a list of radius values \n",
    "radii= [2,3,4,5]\n",
    "\n",
    "#here is an efficient way of constructing a list \n",
    "#called a list comprehension \n",
    "areas= [area_of_circles(r) for r in radii]  #note how close to human language this syntax is\n",
    "\n",
    "print('the areas for circles of radii',radii,'are',areas)"
   ]
  },
  {
   "cell_type": "markdown",
   "metadata": {},
   "source": [
    "## Exercise 3\n",
    "\n",
    "Combining what we have done before in exercises 1 and 2, we would like to write a function that takes in a list of values, makes a sorted list of these items (look at the `list` methods for this) and adds the average value to the end of the list. The function should retrun this new list. "
   ]
  },
  {
   "cell_type": "code",
   "execution_count": 11,
   "metadata": {},
   "outputs": [
    {
     "name": "stdout",
     "output_type": "stream",
     "text": [
      "Sorted list + Avg :  [1, 2, 3, 4, 4, 6, 8, 9, 78, 344, 45.9]\n"
     ]
    }
   ],
   "source": [
    "\n",
    "def sortAndAverage (listToSort: list[int]) -> list[int]:\n",
    "    \n",
    "    sortedList = sorted(listToSort)\n",
    "    \n",
    "    average = sum(sortedList) / len(sortedList)\n",
    "    \n",
    "    list.insert(sortedList, len(sortedList), average)\n",
    "    \n",
    "    return sortedList\n",
    "\n",
    "\n",
    "unsortedListFloat = [1.1, 2.7, 3.4]\n",
    "\n",
    "unsortedList  = [2,78,3,1,4,6,8,9,4,344]\n",
    "\n",
    "print(f\"Sorted list + Avg :  {sortAndAverage(unsortedList)}\")\n",
    "    \n",
    "    \n",
    "    \n",
    "    \n",
    "\n"
   ]
  },
  {
   "cell_type": "markdown",
   "metadata": {},
   "source": [
    "## Loops and Conditions  \n",
    "\n",
    "Similar to other programming languages, we will need conditional statements in python. Here are some boolean operators in action. \n"
   ]
  },
  {
   "cell_type": "code",
   "execution_count": null,
   "metadata": {},
   "outputs": [],
   "source": [
    "sunny = False \n",
    "\n",
    "rainy = True\n",
    "\n",
    "print('The type for sunny is',type(sunny))\n",
    "\n",
    "if sunny and not rainy:\n",
    "    print(\"It must be a beautiful day!\")\n",
    "elif sunny and rainy :\n",
    "    print(\"Look out for a rainbow! \")\n",
    "elif not sunny and rainy:\n",
    "    print(\"Clouds are waiting outside...\")\n",
    "else:\n",
    "    print(\"Must be nightime!\")\n",
    "    "
   ]
  },
  {
   "cell_type": "code",
   "execution_count": null,
   "metadata": {},
   "outputs": [],
   "source": [
    "##Note there are also == and !=\n",
    "print(sunny==rainy,sunny!=rainy)\n",
    "    "
   ]
  },
  {
   "cell_type": "markdown",
   "metadata": {},
   "source": [
    "Lets look at some loops with examples. A for loop iterates over a collection and sometimes we need to execute a task a certain number of times without having a collection to iterate over. This is when the builtin `range` function becomes useful. "
   ]
  },
  {
   "cell_type": "code",
   "execution_count": null,
   "metadata": {},
   "outputs": [],
   "source": [
    "#loop over collection\n",
    "\n",
    "for item in [1,2,3,4]:\n",
    "    print(item)\n",
    "    \n",
    "#lets look at the help for range \n",
    "#help(range)\n",
    "\n",
    "#print a new line\n",
    "#note strings can be multiplied by a number!\n",
    "print(30*'-')\n",
    "\n",
    "#loop with range \n",
    "for i in range(5):\n",
    "    print('the current value of i is',i)"
   ]
  },
  {
   "cell_type": "markdown",
   "metadata": {},
   "source": [
    "Note that the values in the range sequence correspond (by default) to indices of items in a collection. So if we have a collection thats mutable, this would be a great way to acces (and perhaps change) the values in that collection. "
   ]
  },
  {
   "cell_type": "code",
   "execution_count": null,
   "metadata": {},
   "outputs": [],
   "source": [
    "#empty list object\n",
    "list_of_names=[]\n",
    "\n",
    "#first names\n",
    "list_of_first_names=['Anny','Nicole','Ben','Lucas']\n",
    "\n",
    "#last names\n",
    "list_of_surnames=['Smith','Anderson','Jones','Davidson']\n",
    "\n",
    "#note that these are parallel list of the same length\n",
    "\n",
    "#so we can combine the data to make the complete names\n",
    "for i in range(len(list_of_first_names)):\n",
    "    \n",
    "    list_of_names.append(list_of_first_names[i]+' '+list_of_surnames[i])#note that + concatenates two str objects \n",
    "    \n",
    "list_of_names"
   ]
  },
  {
   "cell_type": "markdown",
   "metadata": {},
   "source": [
    "If we have a condition to work with, a while loop would be more useful. But to make an example more fun, lets try writing a number guessing game using the random number generator from Numpy!"
   ]
  },
  {
   "cell_type": "markdown",
   "metadata": {},
   "source": [
    "# Modules in python"
   ]
  },
  {
   "cell_type": "markdown",
   "metadata": {},
   "source": [
    "The ideas of modules in python is very similar to libraries in other programming languages. You have worked with numpy previously. \n",
    "\n",
    "Lets import numpy and look at how to make a random integer using one of its functions. "
   ]
  },
  {
   "cell_type": "code",
   "execution_count": null,
   "metadata": {},
   "outputs": [],
   "source": [
    "#most simple method to import a module \n",
    "#syntax : import module_name \n",
    "import numpy \n",
    "\n",
    "#to access any of the methods inside the module, we will use the dot operator\n",
    "#example\n",
    "#help(numpy.random.randint)"
   ]
  },
  {
   "cell_type": "markdown",
   "metadata": {},
   "source": [
    "#### Now for our guessing game\n",
    "\n",
    "We will need to ask the user for input so now is a good time to review the `input` function. We will get a random integer from numpy and try to guess it !"
   ]
  },
  {
   "cell_type": "code",
   "execution_count": null,
   "metadata": {},
   "outputs": [],
   "source": [
    "random_number = numpy.random.randint(10) #create random int between 0 and 10 (exclusive)\n",
    "\n",
    "user_guess = input('guess a number between 0 and 10: ')\n",
    "\n",
    "while user_guess!=random_number:\n",
    "    \n",
    "    user_guess=int(user_guess)  #default type returned from input() is str\n",
    "    if user_guess <random_number:\n",
    "        print(f\"Your guess of {user_guess} is too low, try again\")\n",
    "        user_guess = input('guess a number between 0 and 10: ')\n",
    "    elif user_guess > random_number:\n",
    "        print(f\"Your guess of {user_guess} is too high, try again\")\n",
    "        user_guess = input('guess a number between 0 and 10: ')\n",
    "        \n",
    "print(\"You are correct! The answer is \",user_guess)"
   ]
  },
  {
   "cell_type": "markdown",
   "metadata": {},
   "source": [
    "## Exercise 4\n",
    "\n",
    "Change the code so that it catches the cases where the user does not provide a number as a guess. "
   ]
  },
  {
   "cell_type": "markdown",
   "metadata": {},
   "source": [
    "## Applications of numpy \n",
    "\n",
    "We will use numpy in this course extensively so lets spend some time reviewing the basics. In numpy we use the multidimentional array object. We can create arrays a variety of ways.  "
   ]
  },
  {
   "cell_type": "code",
   "execution_count": 14,
   "metadata": {},
   "outputs": [
    {
     "name": "stdout",
     "output_type": "stream",
     "text": [
      "A=\n",
      "[[1 2]\n",
      " [3 4]]\n",
      "B=\n",
      "[[5. 5. 5. 5. 5.]\n",
      " [5. 5. 5. 5. 5.]]\n",
      "C=\n",
      "[[0. 0. 0. 0.]\n",
      " [0. 0. 0. 0.]\n",
      " [0. 0. 0. 0.]\n",
      " [0. 0. 0. 0.]]\n",
      "D=\n",
      "[[[1.24940830e-311 3.16202013e-322]\n",
      "  [0.00000000e+000 0.00000000e+000]\n",
      "  [7.56571287e-307 1.03173043e+166]]\n",
      "\n",
      " [[3.35111804e-033 6.11558133e+169]\n",
      "  [3.92800017e-033 7.96948113e-042]\n",
      "  [2.00702243e-052 3.83855213e+175]]]\n"
     ]
    },
    {
     "data": {
      "text/plain": [
       "1"
      ]
     },
     "execution_count": 14,
     "metadata": {},
     "output_type": "execute_result"
    }
   ],
   "source": [
    "import numpy\n",
    "\n",
    "A=numpy.array([[1,2],[3,4]])#from a list object\n",
    "\n",
    "#usig one of the initializer methods\n",
    "B=numpy.ones((2,5)) *5\n",
    "\n",
    "C=numpy.zeros((4,4))\n",
    "\n",
    "D=numpy.empty((2,3,2))\n",
    "\n",
    "print(\"A=\",A,\"B=\",B,\"C=\",C,\"D=\",D,sep='\\n')"
   ]
  },
  {
   "cell_type": "markdown",
   "metadata": {},
   "source": [
    "The type of an array is ndarray. "
   ]
  },
  {
   "cell_type": "code",
   "execution_count": null,
   "metadata": {},
   "outputs": [],
   "source": [
    "if type(A)==numpy.ndarray:\n",
    "    print('This is how to check the type')\n",
    "elif type(A)==numpy.array:\n",
    "    print('This is how not to check the type')\n",
    "    \n",
    "    "
   ]
  },
  {
   "cell_type": "code",
   "execution_count": null,
   "metadata": {},
   "outputs": [],
   "source": [
    "print(type(B))"
   ]
  },
  {
   "cell_type": "markdown",
   "metadata": {},
   "source": [
    "A numpy array has many useful attributes. "
   ]
  },
  {
   "cell_type": "code",
   "execution_count": null,
   "metadata": {},
   "outputs": [],
   "source": [
    "help(numpy.ndarray)"
   ]
  },
  {
   "cell_type": "code",
   "execution_count": null,
   "metadata": {},
   "outputs": [],
   "source": [
    "print(\"A=\",A,\"B=\",B,\"C=\",C,\"D=\",D,sep='\\n')\n",
    "print(A.shape) # shape on an array\n",
    "\n",
    "print(B.ndim) #number of dimensions\n",
    "\n",
    "print(C.size) #can you tell me what this is?\n",
    "\n",
    "print(D.dtype)"
   ]
  },
  {
   "cell_type": "markdown",
   "metadata": {},
   "source": [
    "Indexing into multidimensional arrays is similar to lists. \n",
    "```\n",
    "startindex:stopindex:increment\n",
    "```\n",
    "If any of these are omitted, they are given default values. At least one index should be given. "
   ]
  },
  {
   "cell_type": "code",
   "execution_count": 15,
   "metadata": {},
   "outputs": [
    {
     "name": "stdout",
     "output_type": "stream",
     "text": [
      "A=\n",
      "[[[ 0  1  2  3  4  5  6  7  8  9 10 11 12 13 14 15 16 17 18 19 20 21 22\n",
      "   23 24]\n",
      "  [25 26 27 28 29 30 31 32 33 34 35 36 37 38 39 40 41 42 43 44 45 46 47\n",
      "   48 49]]\n",
      "\n",
      " [[50 51 52 53 54 55 56 57 58 59 60 61 62 63 64 65 66 67 68 69 70 71 72\n",
      "   73 74]\n",
      "  [75 76 77 78 79 80 81 82 83 84 85 86 87 88 89 90 91 92 93 94 95 96 97\n",
      "   98 99]]]\n",
      "[[ 0  1  2  3  4  5  6  7  8  9 10 11 12 13 14 15 16 17 18 19 20 21 22 23\n",
      "  24]\n",
      " [25 26 27 28 29 30 31 32 33 34 35 36 37 38 39 40 41 42 43 44 45 46 47 48\n",
      "  49]]\n"
     ]
    }
   ],
   "source": [
    "A=numpy.arange(100).reshape(2,2,25)\n",
    "\n",
    "print(\"A=\",A,sep='\\n')\n",
    "\n",
    "print(A[0])#first item in A, which is of shape (2,25)"
   ]
  },
  {
   "cell_type": "code",
   "execution_count": null,
   "metadata": {},
   "outputs": [],
   "source": [
    "#guess what each of the following would print before execution"
   ]
  },
  {
   "cell_type": "code",
   "execution_count": null,
   "metadata": {},
   "outputs": [],
   "source": [
    "print(A[0,0,0])#A is 3 dimensional so needs three indices to access items"
   ]
  },
  {
   "cell_type": "code",
   "execution_count": null,
   "metadata": {},
   "outputs": [],
   "source": [
    "print(A[0,1,0])"
   ]
  },
  {
   "cell_type": "code",
   "execution_count": null,
   "metadata": {},
   "outputs": [],
   "source": [
    "A=numpy.arange(25).reshape(5,5)\n",
    "\n",
    "print(\"A=\",A,sep='\\n')\n"
   ]
  },
  {
   "cell_type": "code",
   "execution_count": null,
   "metadata": {},
   "outputs": [],
   "source": [
    "print(A[::,::])#all rows all col"
   ]
  },
  {
   "cell_type": "code",
   "execution_count": null,
   "metadata": {},
   "outputs": [],
   "source": [
    "print(A[0:5:1,0:5:1])#all rows all col"
   ]
  },
  {
   "cell_type": "code",
   "execution_count": null,
   "metadata": {},
   "outputs": [],
   "source": [
    "print(A[::2,::])"
   ]
  },
  {
   "cell_type": "code",
   "execution_count": null,
   "metadata": {},
   "outputs": [],
   "source": [
    "print(A[:4,0:4])#increment can be omitted"
   ]
  },
  {
   "cell_type": "markdown",
   "metadata": {},
   "source": [
    "All arithmetic operations are elementwise on arrays. With multidimensional arrays you have to be careful with \"broadcasting\". "
   ]
  },
  {
   "cell_type": "code",
   "execution_count": null,
   "metadata": {},
   "outputs": [],
   "source": [
    "A=numpy.arange(100).reshape(2,2,25)\n",
    "B=numpy.arange(50).reshape(2,25)\n",
    "C=numpy.arange(100).reshape(25,2,2)\n",
    "D=numpy.arange(25)"
   ]
  },
  {
   "cell_type": "code",
   "execution_count": null,
   "metadata": {},
   "outputs": [],
   "source": [
    "A+B #this is fine,try the next ones"
   ]
  },
  {
   "cell_type": "code",
   "execution_count": null,
   "metadata": {},
   "outputs": [],
   "source": [
    "A+C"
   ]
  },
  {
   "cell_type": "code",
   "execution_count": null,
   "metadata": {},
   "outputs": [],
   "source": [
    "A+D"
   ]
  },
  {
   "cell_type": "markdown",
   "metadata": {},
   "source": [
    "If you would like to use implement matrix multiplication, use the `@` operator. Make sure the shapes conform. "
   ]
  },
  {
   "cell_type": "code",
   "execution_count": null,
   "metadata": {},
   "outputs": [],
   "source": [
    "B=numpy.arange(50).reshape(2,25)\n",
    "E=numpy.arange(50).reshape(25,2)\n",
    "\n",
    "B@E\n",
    "\n",
    "#E@B"
   ]
  },
  {
   "cell_type": "markdown",
   "metadata": {},
   "source": [
    "Lastly, we can use the linear algebra submodule of numpy. "
   ]
  },
  {
   "cell_type": "code",
   "execution_count": null,
   "metadata": {},
   "outputs": [],
   "source": [
    "numpy.linalg.det(A)#rules of linalg apply"
   ]
  },
  {
   "cell_type": "code",
   "execution_count": null,
   "metadata": {},
   "outputs": [],
   "source": [
    "A=numpy.arange(25).reshape(5,5)\n",
    "numpy.linalg.inv(A)"
   ]
  },
  {
   "cell_type": "markdown",
   "metadata": {},
   "source": [
    "## Exercise 5\n",
    "\n",
    "Write a function that takes in a 2d array as an input. If it is square, display a message to the user “the array is a square matrix” and evaluate the determinant to show the user with a print statement. If the matrix is not square, display the message : “The matrix is — by — and the determinant cannot be evaluated” with the blanks being the row and column of that array. Name this function IsItSquare.py. \n"
   ]
  },
  {
   "cell_type": "code",
   "execution_count": 23,
   "metadata": {},
   "outputs": [
    {
     "name": "stdout",
     "output_type": "stream",
     "text": [
      "The function needs an array as input\n",
      "The Matrix is 2 by 3 and the determinant cannot be evaluated\n",
      "The Array is a Square Matrix with the det=0.0\n"
     ]
    }
   ],
   "source": [
    "def IsItSquare(A):\n",
    "    '''\n",
    "    (ndarray)-> None \n",
    "    >>>IsItSquare([[1,2,3],[4,5,6]]) \n",
    "    The function needs an array as input\n",
    "    >>>IsItSquare(np.array([[1,2,3],[4,5,6]])) \n",
    "    The matrix is 2 by 3 and the determinant cannot be evaluated. \n",
    "    >>>IsItSquare(np.arange(1,10).reshape(3,3)) \n",
    "    The array is a square matrix with the det=-9.51619735392994e-16\n",
    "    '''\n",
    "    \n",
    "    if (type(A) != numpy.ndarray):\n",
    "        print(\"The function needs an array as input\")\n",
    "        return None\n",
    "    \n",
    "    shapeOfA = numpy.shape(A)\n",
    "    \n",
    "    if len(shapeOfA) != 2:\n",
    "        print(\"Array is not 2 Dimensions\")\n",
    "        return None\n",
    "    \n",
    "    if (shapeOfA[0] != shapeOfA[1]):\n",
    "        print(f\"The Matrix is {shapeOfA[0]} by {shapeOfA[1]} and the determinant cannot be evaluated\")\n",
    "        return None\n",
    "    \n",
    "    print(f\"The Array is a Square Matrix with the det={numpy.linalg.det(A)}\")\n",
    "    \n",
    "    \n",
    "IsItSquare([[1,2,3],[4,5,6]]) \n",
    "IsItSquare(numpy.array([[1,2,3],[4,5,6]])) \n",
    "IsItSquare(numpy.arange(1,10).reshape(3,3)) "
   ]
  },
  {
   "cell_type": "markdown",
   "metadata": {},
   "source": [
    "## Plotting a Function (using [Matplotlib](https://matplotlib.org/))\n",
    "\n",
    "Let's define a function to find the roots of a quadratic function $ f(x) = ax^2+bx+c $ and plot both the function and the roots.\n",
    "\n",
    "## Exercise 6\n"
   ]
  },
  {
   "cell_type": "code",
   "execution_count": 28,
   "metadata": {},
   "outputs": [],
   "source": [
    "#complete this function declaration\n",
    "def quadratic_root(a ,b ,c):\n",
    "    \n",
    "    \"\"\"\n",
    "    (float, float, float) -> tuple\n",
    "    \n",
    "    Return the roots of a quadratic function f(x) = a x^2 + b x + c with real coefficients.\n",
    "    \n",
    "        >>> quadratic_root(-1., 2., 3.)\n",
    "        (3.0,-1.0)\n",
    "        >>> quadratic_root(1, 0., -4.)\n",
    "        (2.0,-2.0)\n",
    "\n",
    "    \"\"\"\n",
    "    delt=(b*b)-4*a*c\n",
    "    \n",
    "    x1,x2= ((-b+numpy.sqrt(delt))/(2*a),  (-b-numpy.sqrt(delt))/(2*a))\n",
    "   \n",
    "    # using the quadratic formula, compute the two roots of the polynomial\n",
    "    \n",
    "    return (x1,x2)"
   ]
  },
  {
   "cell_type": "code",
   "execution_count": 29,
   "metadata": {},
   "outputs": [
    {
     "name": "stdout",
     "output_type": "stream",
     "text": [
      "for -1.0x^2+2.0x+3.0, the roots are -1.0 and 3.0\n"
     ]
    }
   ],
   "source": [
    "#You can use tuples for multiple assignments\n",
    "(a, b, c) = (-1., 2., 3.)\n",
    "(x1, x2) = quadratic_root(a ,b ,c) #make sure to complete the function before running this\n",
    "\n",
    "\n",
    "print(f'for {a}x^2+{b}x+{c}, the roots are {x1} and {x2}')#using print with the formatted string introduced in python 3.6+"
   ]
  },
  {
   "cell_type": "markdown",
   "metadata": {},
   "source": [
    "Now that we have determined the two roots for the problem, let us visualize the second order polynomial as well as the two answers to check that they are indeed the roots. "
   ]
  },
  {
   "cell_type": "code",
   "execution_count": null,
   "metadata": {},
   "outputs": [],
   "source": [
    "#we require the matplotlib library for plotting\n",
    "#syntax : import module_name as other_name \n",
    "import matplotlib.pyplot as plt\n",
    "\n",
    "\n",
    "# We would like to plot the quadratic \n",
    "# lambda allows us to create a small anonymous function in python\n",
    "f= lambda x:a*x**2+b*x+c\n",
    "\n",
    "x=numpy.linspace(-2,4,50)#points for plot\n",
    "\n",
    "#now we can call the methods with the new module name\n",
    "plt.plot(x,f(x),'b-',label=f'$ {a}x^2+{b}x+{c}$')                             \n",
    "plt.plot(x,numpy.zeros([len(x),1]),'r--')\n",
    "plt.plot(x1,f(x1),'ks',markersize=10,markerfacecolor='red',label=f'$(x_1,f(x_1))$ = {(x1,f(x1))}')\n",
    "plt.plot(x2,f(x2),'go',markersize=13,markerfacecolor='white',label=f'$(x_2,f(x_2))$ = {(x2,f(x2))}')\n",
    "plt.title('Roots of a quadratic')\n",
    "plt.legend()\n",
    "plt.show()\n"
   ]
  },
  {
   "cell_type": "markdown",
   "metadata": {},
   "source": [
    "There are two more types of import :\n",
    "\n",
    "   - from module import something\n",
    "   - from module import * \n",
    "   \n",
    "Instead of testing these on python modules, run them on your own module as part of the last exercise. \n",
    "\n",
    "## Exercise 7\n",
    "\n",
    "Create your own py files called `quadratic.py`. In this file, include your `quadratic_root` function. Now in a terminal:\n",
    "\n",
    "1. From this module, import the quadratic_root function and find the roots for $ f(x) = x^2-x-2 $. \n",
    "2. Now modify your module such that *only when it is run as a script*, it asks the user for the coefficients a,b and c and displays the roots for the quadratic $ f(x) = ax^2+bx+c $. (hint : you will need the `__name__` variable)\n"
   ]
  },
  {
   "cell_type": "code",
   "execution_count": null,
   "metadata": {},
   "outputs": [],
   "source": []
  }
 ],
 "metadata": {
  "kernelspec": {
   "display_name": "Python 3 (ipykernel)",
   "language": "python",
   "name": "python3"
  },
  "language_info": {
   "codemirror_mode": {
    "name": "ipython",
    "version": 3
   },
   "file_extension": ".py",
   "mimetype": "text/x-python",
   "name": "python",
   "nbconvert_exporter": "python",
   "pygments_lexer": "ipython3",
   "version": "3.12.3"
  }
 },
 "nbformat": 4,
 "nbformat_minor": 4
}
