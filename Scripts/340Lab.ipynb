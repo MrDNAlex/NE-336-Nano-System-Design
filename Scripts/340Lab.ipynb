{
 "cells": [
  {
   "cell_type": "code",
   "execution_count": 4,
   "metadata": {},
   "outputs": [
    {
     "name": "stdout",
     "output_type": "stream",
     "text": [
      "[3.1415926535897924e-08, 4.9087385212340514e-08, 7.068583470577033e-08, 9.621127501618741e-08, 1.256637061435917e-07]\n",
      "[1.96349540849362, 3.0679615757712817, 4.417864669110645, 6.0132046885117125, 7.85398163397448]\n"
     ]
    }
   ],
   "source": [
    "from numpy import pi\n",
    "\n",
    "# Micro meters\n",
    "Diameters = [200, 250, 300, 350, 400]\n",
    "thickness = 120 * 10**-9\n",
    "epsilon = 7.5\n",
    "epsilonNaught = 8.854*10**(-12)\n",
    "\n",
    "Areas = [pi * ((i * 10**(-6))/2)**2 for i in Diameters]\n",
    "\n",
    "print(Areas)\n",
    "\n",
    "\n",
    "Capac = [ (epsilon * epsilonNaught * i)/thickness for i in Areas]\n",
    "\n",
    "print(Capac)\n"
   ]
  }
 ],
 "metadata": {
  "kernelspec": {
   "display_name": "Python 3",
   "language": "python",
   "name": "python3"
  },
  "language_info": {
   "codemirror_mode": {
    "name": "ipython",
    "version": 3
   },
   "file_extension": ".py",
   "mimetype": "text/x-python",
   "name": "python",
   "nbconvert_exporter": "python",
   "pygments_lexer": "ipython3",
   "version": "3.12.3"
  }
 },
 "nbformat": 4,
 "nbformat_minor": 2
}
