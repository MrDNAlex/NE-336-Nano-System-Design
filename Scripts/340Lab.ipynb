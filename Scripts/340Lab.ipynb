{
 "cells": [
  {
   "cell_type": "code",
   "execution_count": 5,
   "metadata": {},
   "outputs": [
    {
     "name": "stdout",
     "output_type": "stream",
     "text": [
      "[3.1415926535897924e-08, 4.9087385212340514e-08, 7.068583470577033e-08, 9.621127501618741e-08, 1.256637061435917e-07]\n",
      "[1.7384788346802506e-11, 2.7163731791878924e-11, 3.9115773780305643e-11, 5.3240914312082695e-11, 6.953915338721003e-11]\n"
     ]
    }
   ],
   "source": [
    "from numpy import pi\n",
    "\n",
    "# Micro meters\n",
    "Diameters = [200, 250, 300, 350, 400]\n",
    "thickness = 120 * 10**-9\n",
    "epsilon = 7.5\n",
    "epsilonNaught = 8.854*10**(-12)\n",
    "\n",
    "Areas = [pi * ((i * 10**(-6))/2)**2 for i in Diameters]\n",
    "\n",
    "print(Areas)\n",
    "\n",
    "\n",
    "Capac = [ (epsilon * epsilonNaught * i)/thickness for i in Areas]\n",
    "\n",
    "print(Capac)\n"
   ]
  }
 ],
 "metadata": {
  "kernelspec": {
   "display_name": "Python 3",
   "language": "python",
   "name": "python3"
  },
  "language_info": {
   "codemirror_mode": {
    "name": "ipython",
    "version": 3
   },
   "file_extension": ".py",
   "mimetype": "text/x-python",
   "name": "python",
   "nbconvert_exporter": "python",
   "pygments_lexer": "ipython3",
   "version": "3.12.3"
  }
 },
 "nbformat": 4,
 "nbformat_minor": 2
}
