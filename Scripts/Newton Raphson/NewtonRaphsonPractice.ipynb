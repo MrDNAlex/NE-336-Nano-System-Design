{
 "cells": [
  {
   "cell_type": "code",
   "execution_count": 1,
   "metadata": {},
   "outputs": [
    {
     "name": "stdout",
     "output_type": "stream",
     "text": [
      "[5, 3.4246575342465753, 2.924356996641545, 2.8611469756610415, 2.8601046890549346, 2.8601044055074283]\n",
      "[46.0, 17.108052750727655, 2.209254593287688, 0.03644225367328207, 9.913886563630006e-06]\n",
      " F(x) : -7.194245199571014e-14  Root : 2.8601044055074283, Error : 9.913886563630006e-06\n"
     ]
    }
   ],
   "source": [
    "from NewtonRaphson import NewtonRaphson\n",
    "\n",
    "f=lambda x: -0.9*x**2 + 1.7*x + 2.5\n",
    "fp = lambda x: -1.8*x + 1.7\n",
    "\n",
    "result = NewtonRaphson(5, f, fp, 0.00005, 200)\n",
    "\n",
    "xHistory= result[0]\n",
    "errorHistory = result[1]\n",
    "\n",
    "print (xHistory)\n",
    "print(errorHistory)\n",
    "\n",
    "print(f\" F(x) : {f(xHistory[-1])}  Root : {xHistory[-1]}, Error : {errorHistory[-1]}\")\n"
   ]
  }
 ],
 "metadata": {
  "kernelspec": {
   "display_name": "Python 3",
   "language": "python",
   "name": "python3"
  },
  "language_info": {
   "codemirror_mode": {
    "name": "ipython",
    "version": 3
   },
   "file_extension": ".py",
   "mimetype": "text/x-python",
   "name": "python",
   "nbconvert_exporter": "python",
   "pygments_lexer": "ipython3",
   "version": "3.12.3"
  }
 },
 "nbformat": 4,
 "nbformat_minor": 2
}
